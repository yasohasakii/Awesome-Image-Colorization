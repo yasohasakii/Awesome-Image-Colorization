{
  "nbformat": 4,
  "nbformat_minor": 0,
  "metadata": {
    "colab": {
      "name": "camely2017.ipynb",
      "provenance": [],
      "include_colab_link": true
    },
    "kernelspec": {
      "name": "python3",
      "display_name": "Python 3"
    },
    "accelerator": "GPU"
  },
  "cells": [
    {
      "cell_type": "markdown",
      "metadata": {
        "id": "view-in-github",
        "colab_type": "text"
      },
      "source": [
        "<a href=\"https://colab.research.google.com/github/yasohasakii/Awesome-Image-Colorization/blob/master/camely2017.ipynb\" target=\"_parent\"><img src=\"https://colab.research.google.com/assets/colab-badge.svg\" alt=\"Open In Colab\"/></a>"
      ]
    },
    {
      "cell_type": "code",
      "metadata": {
        "id": "LTTV8cIXeruW",
        "colab_type": "code",
        "colab": {
          "base_uri": "https://localhost:8080/",
          "height": 304
        },
        "outputId": "40411e22-2026-4641-8a73-17a0be435ab8"
      },
      "source": [
        "from google.colab import drive\n",
        "drive.mount('/gdrive')\n",
        "!rm -rf sample_data\n",
        "!cp -R /gdrive/My\\ Drive/CAMELYON17 /content/CAMELYON17"
      ],
      "execution_count": 0,
      "outputs": [
        {
          "output_type": "stream",
          "text": [
            "Go to this URL in a browser: https://accounts.google.com/o/oauth2/auth?client_id=947318989803-6bn6qk8qdgf4n4g3pfee6491hc0brc4i.apps.googleusercontent.com&redirect_uri=urn%3Aietf%3Awg%3Aoauth%3A2.0%3Aoob&scope=email%20https%3A%2F%2Fwww.googleapis.com%2Fauth%2Fdocs.test%20https%3A%2F%2Fwww.googleapis.com%2Fauth%2Fdrive%20https%3A%2F%2Fwww.googleapis.com%2Fauth%2Fdrive.photos.readonly%20https%3A%2F%2Fwww.googleapis.com%2Fauth%2Fpeopleapi.readonly&response_type=code\n",
            "\n",
            "Enter your authorization code:\n",
            "··········\n",
            "Mounted at /gdrive\n",
            "rm: refusing to remove '.' or '..' directory: skipping './'\n",
            "cp: error reading '/gdrive/My Drive/CAMELYON17/training/center_0/patient_016.zip': Input/output error\n",
            "cp: error reading '/gdrive/My Drive/CAMELYON17/training/center_0/patient_009.zip': Input/output error\n",
            "cp: error reading '/gdrive/My Drive/CAMELYON17/training/center_0/patient_000.zip': Input/output error\n",
            "cp: error reading '/gdrive/My Drive/CAMELYON17/training/center_0/patient_015.zip': Input/output error\n",
            "cp: error reading '/gdrive/My Drive/CAMELYON17/training/center_0/patient_004.zip': Input/output error\n",
            "cp: error reading '/gdrive/My Drive/CAMELYON17/training/center_0/patient_018.zip': Input/output error\n",
            "cp: error reading '/gdrive/My Drive/CAMELYON17/training/center_0/patient_001.zip': Input/output error\n",
            "cp: error reading '/gdrive/My Drive/CAMELYON17/training/center_0/patient_007.zip': Input/output error\n"
          ],
          "name": "stdout"
        }
      ]
    },
    {
      "cell_type": "code",
      "metadata": {
        "id": "LY5oNkrkfYco",
        "colab_type": "code",
        "colab": {}
      },
      "source": [
        ""
      ],
      "execution_count": 0,
      "outputs": []
    },
    {
      "cell_type": "code",
      "metadata": {
        "id": "x2Lcj-u4gav_",
        "colab_type": "code",
        "colab": {}
      },
      "source": [
        ""
      ],
      "execution_count": 0,
      "outputs": []
    }
  ]
}